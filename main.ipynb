{
 "cells": [
  {
   "cell_type": "code",
   "execution_count": null,
   "metadata": {},
   "outputs": [],
   "source": [
    "import numpy as np\n"
   ]
  },
  {
   "cell_type": "code",
   "execution_count": null,
   "metadata": {},
   "outputs": [],
   "source": [
    "# Number of tasks and resources\n",
    "N = 10\n",
    "M = 5\n",
    "\n",
    "# Chromosome length\n",
    "chromosome_length = N\n",
    "\n",
    "# Generate a random chromosome using NumPy\n",
    "chromosome = np.random.randint(1, M+1, chromosome_length)\n",
    "\n",
    "# Display the generated chromosome\n",
    "print(\"Generated Chromosome:\", chromosome)\n"
   ]
  }
 ],
 "metadata": {
  "language_info": {
   "name": "python"
  }
 },
 "nbformat": 4,
 "nbformat_minor": 2
}
